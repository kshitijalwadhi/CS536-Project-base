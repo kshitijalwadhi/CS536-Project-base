{
 "cells": [
  {
   "cell_type": "code",
   "execution_count": 1,
   "metadata": {},
   "outputs": [
    {
     "name": "stdout",
     "output_type": "stream",
     "text": [
      "The solution is optimal.\n",
      "Objective value: z* = 170.0\n",
      "Solution: x1* = 10.0, x2* = 14.0\n"
     ]
    }
   ],
   "source": [
    "from pulp import *\n",
    "\n",
    "model = pulp.LpProblem('linear_programming', LpMaximize)\n",
    "\n",
    "# get solver\n",
    "solver = getSolver('PULP_CBC_CMD')\n",
    "\n",
    "# declare decision variables\n",
    "x1 = LpVariable('x1', lowBound = 0, cat = 'continuous')\n",
    "x2 = LpVariable('x2', lowBound = 0, cat = 'continuous')\n",
    "\n",
    "# declare objective\n",
    "model += 10*x1 + 5*x2\n",
    "\n",
    "# declare constraints\n",
    "model += x1 + x2 <= 24\n",
    "model += 10*x1 <= 100\n",
    "model += 5*x2 <= 100\n",
    "\n",
    "# solve \n",
    "results = model.solve(solver=solver)\n",
    "\n",
    "# print results\n",
    "if LpStatus[results] == 'Optimal': print('The solution is optimal.')\n",
    "print(f'Objective value: z* = {val(model.objective)}')\n",
    "print(f'Solution: x1* = {val(x1)}, x2* = {val(x2)}')"
   ]
  },
  {
   "cell_type": "code",
   "execution_count": 2,
   "metadata": {},
   "outputs": [
    {
     "name": "stdout",
     "output_type": "stream",
     "text": [
      "Objective value: z* = 60.0\n",
      "Solution: x1* = 9.0, x2* = 1.2\n"
     ]
    }
   ],
   "source": [
    "from pulp import *\n",
    "\n",
    "model = pulp.LpProblem('linear_programming', LpMaximize)\n",
    "\n",
    "# get solver\n",
    "solver = getSolver('PULP_CBC_CMD')\n",
    "\n",
    "# declare decision variables\n",
    "x1 = LpVariable('x1', lowBound = 1, cat = 'continuous')\n",
    "x2 = LpVariable('x2', lowBound = 1, cat = 'continuous')\n",
    "\n",
    "# declare objective\n",
    "model += 50*x1/15 + 100*x2/4\n",
    "\n",
    "# declare constraints\n",
    "model += 100*x1 + 100*x2 <= 1000\n",
    "model += x1 <= 20\n",
    "model += x2 <= 4\n",
    "model += x1 + x2 <= 20\n",
    "model += 50 * x1 / 15 >= 30\n",
    "model += 100 * x2 / 4 >= 30\n",
    "\n",
    "# solve \n",
    "results = model.solve(solver=solver)\n",
    "\n",
    "# print results\n",
    "if LpStatus[results] == 'Optimal': print('The solution is optimal.')\n",
    "print(f'Objective value: z* = {value(model.objective)}')\n",
    "print(f'Solution: x1* = {value(x1)}, x2* = {value(x2)}')"
   ]
  },
  {
   "cell_type": "code",
   "execution_count": 10,
   "metadata": {},
   "outputs": [
    {
     "name": "stdout",
     "output_type": "stream",
     "text": [
      "<class 'pulp.pulp.LpProblem'>\n",
      "Objective value: z* = 59.99999925\n",
      "Solution: x1* = 9.0, x2* = 1.2\n"
     ]
    }
   ],
   "source": [
    "from pulp import *\n",
    "\n",
    "BW = 1000\n",
    "\n",
    "model = pulp.LpProblem('linear_programming', LpMaximize)\n",
    "\n",
    "# get solver\n",
    "solver = getSolver('PULP_CBC_CMD')\n",
    "\n",
    "clients = {}\n",
    "clients[1] = {\n",
    "                \"fps\": 20,\n",
    "                \"size_each_frame\": 100,\n",
    "                \"past_accuracy\": 50\n",
    "            }\n",
    "clients[4] = {\n",
    "                \"fps\": 4,\n",
    "                \"size_each_frame\": 100,\n",
    "                \"past_accuracy\": 90\n",
    "            }\n",
    "\n",
    "\n",
    "# declare decision variables\n",
    "vars = {}\n",
    "\n",
    "for key, val in clients.items():\n",
    "    vars[key] = LpVariable('x'+str(key), lowBound = 1, cat = 'continuous')\n",
    "\n",
    "# declare objective\n",
    "\n",
    "model += lpSum(val['past_accuracy'] * vars[key] / val['fps'] for key, val in clients.items())\n",
    "\n",
    "# declare constraints\n",
    "model += lpSum(val['size_each_frame'] * vars[key] for key, val in clients.items()) <= BW #bandwidth\n",
    "model += lpSum(vars[key] for key, val in clients.items()) <= 20 #total fps capped\n",
    "\n",
    "for key, val in clients.items():\n",
    "    model += vars[key] <= clients[key]['fps'] #each fps capped\n",
    "\n",
    "for key, val in clients.items():\n",
    "    model += val['past_accuracy'] * vars[key] / val['fps'] >= 30 #each performance min capped\n",
    "\n",
    "# solve \n",
    "results = model.solve(solver=solver)\n",
    "\n",
    "print(type(model))\n",
    "\n",
    "# print results\n",
    "if LpStatus[results] == 'Optimal': print('The solution is optimal.')\n",
    "print(f'Objective value: z* = {value(model.objective)}')\n",
    "print(f'Solution: x1* = {value(x1)}, x2* = {value(x2)}')"
   ]
  },
  {
   "cell_type": "code",
   "execution_count": null,
   "metadata": {},
   "outputs": [],
   "source": []
  }
 ],
 "metadata": {
  "kernelspec": {
   "display_name": "networks2",
   "language": "python",
   "name": "python3"
  },
  "language_info": {
   "codemirror_mode": {
    "name": "ipython",
    "version": 3
   },
   "file_extension": ".py",
   "mimetype": "text/x-python",
   "name": "python",
   "nbconvert_exporter": "python",
   "pygments_lexer": "ipython3",
   "version": "3.11.5"
  }
 },
 "nbformat": 4,
 "nbformat_minor": 2
}
